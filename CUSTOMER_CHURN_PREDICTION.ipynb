{
  "nbformat": 4,
  "nbformat_minor": 0,
  "metadata": {
    "colab": {
      "provenance": []
    },
    "kernelspec": {
      "name": "python3",
      "display_name": "Python 3"
    },
    "language_info": {
      "name": "python"
    }
  },
  "cells": [
    {
      "cell_type": "code",
      "execution_count": null,
      "metadata": {
        "id": "9Ra_i5FUr8ki"
      },
      "outputs": [],
      "source": [
        "import tensorflow as tf\n",
        "import pandas as pd\n",
        "from tensorflow.keras.models import Sequential\n",
        "from tensorflow.keras.layers import Dense\n",
        "from tensorflow.keras.optimizers import SGD, Adam, RMSprop\n",
        "from sklearn.model_selection import train_test_split\n",
        "from sklearn.metrics import accuracy_score\n",
        "from sklearn.preprocessing import StandardScaler, OneHotEncoder\n",
        "from sklearn.compose import ColumnTransformer\n",
        "from sklearn.metrics import roc_curve, auc\n",
        "import matplotlib.pyplot as plt\n",
        "from sklearn.metrics import confusion_matrix, ConfusionMatrixDisplay\n",
        "from tensorflow.keras.callbacks import EarlyStopping"
      ]
    },
    {
      "cell_type": "code",
      "source": [
        "\"\"\"Data Preprocessing\"\"\"\n",
        "\n",
        "data = pd.read_csv(\"Churn_Modelling.csv\")\n",
        "data = data.drop(['CustomerId', 'Surname'], axis=1)\n",
        "categorical_cols = ['Geography', 'Gender']\n",
        "numerical_cols = [col for col in data.columns if col not in categorical_cols + ['Exited']]\n",
        "A = data.drop('Exited', axis=1)\n",
        "b = data['Exited']"
      ],
      "metadata": {
        "id": "9xJy8ECNf9G7"
      },
      "execution_count": null,
      "outputs": []
    },
    {
      "cell_type": "code",
      "source": [
        "\n",
        "\"\"\"Transforming/Scaling categorical and numerical data using OneHotEncoder and StandardScaler respectively\"\"\"\n",
        "\n",
        "numerical_transformer = StandardScaler()\n",
        "categorical_transformer = OneHotEncoder(drop='first', sparse=False)\n",
        "preprocessor = ColumnTransformer(\n",
        "    transformers=[\n",
        "        ('num', numerical_transformer, numerical_cols),\n",
        "        ('cat', categorical_transformer, categorical_cols)\n",
        "    ])"
      ],
      "metadata": {
        "id": "C31qrqQ0FuI2"
      },
      "execution_count": null,
      "outputs": []
    },
    {
      "cell_type": "code",
      "source": [
        "\"\"\"\n",
        "\n",
        "Splitting training and testing data\"\"\"\n",
        "\n",
        "A_train, A_test, b_train, b_test = train_test_split(A, b, test_size=0.3, random_state=42)\n",
        "A_train = preprocessor.fit_transform(A_train)\n",
        "A_test = preprocessor.transform(A_test)"
      ],
      "metadata": {
        "colab": {
          "base_uri": "https://localhost:8080/"
        },
        "id": "lqf4iiL5FxqL",
        "outputId": "3fe0b8eb-6b25-4259-ad06-e21ed23b9fe8"
      },
      "execution_count": null,
      "outputs": [
        {
          "output_type": "stream",
          "name": "stderr",
          "text": [
            "/usr/local/lib/python3.10/dist-packages/sklearn/preprocessing/_encoders.py:868: FutureWarning: `sparse` was renamed to `sparse_output` in version 1.2 and will be removed in 1.4. `sparse_output` is ignored unless you leave `sparse` to its default value.\n",
            "  warnings.warn(\n"
          ]
        }
      ]
    },
    {
      "cell_type": "code",
      "source": [
        "\"\"\"Create the model with necessary operations\"\"\"\n",
        "\n",
        "def create_model(optimizer):\n",
        "    model = Sequential()\n",
        "    model.add(Dense(64, input_shape=(A_train.shape[1],), activation='relu'))\n",
        "    model.add(Dense(32, activation='relu'))\n",
        "    model.add(Dense(1, activation='sigmoid'))\n",
        "\n",
        "    model.compile(optimizer=optimizer, loss='binary_crossentropy', metrics=['accuracy'])\n",
        "    return model"
      ],
      "metadata": {
        "id": "GC7TRcQyFzu9"
      },
      "execution_count": null,
      "outputs": []
    },
    {
      "cell_type": "code",
      "source": [
        "\n",
        "\"\"\"Model Compilation\"\"\"\n",
        "\n",
        "optimizers = [SGD(), Adam(), RMSprop()]\n",
        "for opt in optimizers:\n",
        "    model = create_model(opt)\n",
        "    print(f\"Training model with {str(opt)} optimizer...\")\n",
        "    early_stopping = EarlyStopping(monitor='val_loss', patience=3, restore_best_weights=True)\n",
        "    model.fit(A_train, b_train, epochs=10, batch_size=32, verbose=0)"
      ],
      "metadata": {
        "colab": {
          "base_uri": "https://localhost:8080/"
        },
        "id": "053IWj5bF2ZC",
        "outputId": "edf944d1-73ee-4112-c466-0e658882daca"
      },
      "execution_count": null,
      "outputs": [
        {
          "output_type": "stream",
          "name": "stdout",
          "text": [
            "Training model with <keras.src.optimizers.sgd.SGD object at 0x7dddbe32e5f0> optimizer...\n",
            "Training model with <keras.src.optimizers.adam.Adam object at 0x7dddbe32f730> optimizer...\n",
            "Training model with <keras.src.optimizers.rmsprop.RMSprop object at 0x7dddbe32e2c0> optimizer...\n"
          ]
        }
      ]
    },
    {
      "cell_type": "code",
      "source": [
        "\n",
        "\"\"\"Accuracy Evaluation\"\"\"\n",
        "\n",
        "loss, accuracy = model.evaluate(A_test, b_test, verbose=0)\n",
        "print(f\"Evaluation on test set with {str(opt)} optimizer:\")\n",
        "print(f\"Loss: {loss:.4f}, Accuracy: {accuracy*100:.2f}%\")\n",
        "b_pred = model.predict(A_test)\n",
        "b_pred_classes = (b_pred > 0.5).astype(\"int32\")"
      ],
      "metadata": {
        "colab": {
          "base_uri": "https://localhost:8080/"
        },
        "id": "mfUWiTVsGAW_",
        "outputId": "a0a3204e-8d81-498c-f212-97bee8690d35"
      },
      "execution_count": null,
      "outputs": [
        {
          "output_type": "stream",
          "name": "stdout",
          "text": [
            "Evaluation on test set with <keras.src.optimizers.rmsprop.RMSprop object at 0x7dddbe32e2c0> optimizer:\n",
            "Loss: 0.3443, Accuracy: 86.17%\n",
            "94/94 [==============================] - 0s 2ms/step\n"
          ]
        }
      ]
    },
    {
      "cell_type": "code",
      "source": [
        "\n",
        "\"\"\"Confusion Matrix\n",
        "\n",
        "\n",
        "\"\"\"\n",
        "\n",
        "cm = confusion_matrix(b_test, b_pred_classes)\n",
        "print(\"\")\n",
        "print(\"Confusion Matrix:\")\n",
        "print(cm)\n",
        "print(\"Number of customers predicted by the model to stay : \",cm[0][0])\n",
        "print(\"Number of customer predicted by the model to churn/exit : \",cm[1][1])"
      ],
      "metadata": {
        "colab": {
          "base_uri": "https://localhost:8080/"
        },
        "id": "BKcA5hRlGDkp",
        "outputId": "4369b6c8-520e-4505-de8e-3d2f38937b6e"
      },
      "execution_count": null,
      "outputs": [
        {
          "output_type": "stream",
          "name": "stdout",
          "text": [
            "\n",
            "Confusion Matrix:\n",
            "[[2292  124]\n",
            " [ 291  293]]\n",
            "Number of customers predicted by the model to stay :  2292\n",
            "Number of customer predicted by the model to churn/exit :  293\n"
          ]
        }
      ]
    },
    {
      "cell_type": "code",
      "source": [
        "\"\"\"Visualization of Confusion Matrix\"\"\"\n",
        "\n",
        "disp = ConfusionMatrixDisplay(cm, display_labels=['Stay','Churn/Exit'])\n",
        "disp.plot()\n",
        "plt.title('Confusion Matrix')\n",
        "plt.show()"
      ],
      "metadata": {
        "colab": {
          "base_uri": "https://localhost:8080/",
          "height": 472
        },
        "id": "ZrzyyXC-GG2Z",
        "outputId": "5990bd09-8d79-44b6-8dee-d50f9f172148"
      },
      "execution_count": null,
      "outputs": [
        {
          "output_type": "display_data",
          "data": {
            "text/plain": [
              "<Figure size 640x480 with 2 Axes>"
            ],
            "image/png": "[encoded data removed]"
          },
          "metadata": {}
        }
      ]
    }
  ]
}